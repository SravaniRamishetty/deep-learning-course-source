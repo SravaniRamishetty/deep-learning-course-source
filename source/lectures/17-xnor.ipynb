{
 "cells": [
  {
   "cell_type": "markdown",
   "metadata": {},
   "source": [
    "# unit 1.7 - XOR in neural nets\n",
    "\n",
    "[![Open In Colab](https://colab.research.google.com/assets/colab-badge.svg)](https://githubtocolab.com/culurciello/deep-learning-course-source/blob/main/source/lectures/17-xnor.ipynb)\n",
    "\n",
    "We will take a closer look at the XOR problem in neural networks. This was a suggested homework from some of the lectures in this module! This is the solution.\n",
    "\n",
    "## What is XOR?\n",
    "\n",
    "| X1 | x2 | x1 XOR x2 |\n",
    "|---|---|---|\n",
    "| 0 | 0 | 1 |\n",
    "| 0 | 1 | 0 |\n",
    "| 1 | 0 | 0 |\n",
    "| 1 | 1 | 1 |\n",
    "\n",
    "\n",
    "See where the XNOR 1s are... we can express this XNOR using NOT, AND, OR:\n",
    "\n",
    "\n",
    "$XNOR(x1,x2) = AND(x1*x2) + NOT(x1)*NOT(x2)$\n",
    "\n",
    "\n",
    "Now: we know how to implement AND and OR functions with single neurons. How can we implement the entire XNOR?\n",
    "\n",
    "We will need 2 layers - one implementing both $AND(x1*x2)$ and $NOT(x1)*NOT(x2)$, and one final layer to combine them (OR them).\n",
    "\n",
    "![](images/XNOR.png)\n",
    "\n",
    "\n",
    "The number in parentheses near the neurons are the bias values.  All neurons use the ReLU non-linearity.\n",
    "\n",
    "## HOMEWORK\n",
    "\n",
    "Try to implement the XOR function."
   ]
  }
 ],
 "metadata": {
  "kernelspec": {
   "display_name": "Python 3",
   "language": "python",
   "name": "python3"
  },
  "language_info": {
   "codemirror_mode": {
    "name": "ipython",
    "version": 3
   },
   "file_extension": ".py",
   "mimetype": "text/x-python",
   "name": "python",
   "nbconvert_exporter": "python",
   "pygments_lexer": "ipython3",
   "version": "3.10.13"
  }
 },
 "nbformat": 4,
 "nbformat_minor": 2
}
