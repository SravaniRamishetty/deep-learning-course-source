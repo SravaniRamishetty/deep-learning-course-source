{
  "cells": [
    {
      "cell_type": "markdown",
      "metadata": {},
      "source": [
        "# unit 1.1 - the simplest Neural Network\n",
        "\n",
        "[![Open In Colab](https://colab.research.google.com/assets/colab-badge.svg)](https://githubtocolab.com/culurciello/deep-learning-course-source/blob/main/source/lectures/11-neural-nets.ipynb)\n",
        "\n",
        "we will now implement the simpletst neural network, just like on the right of this figure:\n",
        "![](images/real-ann.png)"
      ]
    },
    {
      "cell_type": "markdown",
      "metadata": {},
      "source": []
    },
    {
      "cell_type": "markdown",
      "metadata": {},
      "source": [
        "NEURAL NETWORKS\n",
        "\n",
        "Here is a single neuron neural network\n",
        "\n",
        "AND function:\n",
        "\n",
        "| x_1 | x_2 | AND |\n",
        "| --- | --- | --- |\n",
        "| 0 | 0 | 0 |\n",
        "| 0 | 1 | 0 |\n",
        "| 1 | 0 | 0 |\n",
        "| 1 | 1 | 1 |\n",
        "\n",
        "[BARD](https://bard.google.com/chat): \"write the AND function truth table in markdown\"\n",
        "\n",
        "(note the pun: neural nets write neural networks lectures)"
      ]
    },
    {
      "cell_type": "code",
      "execution_count": 1,
      "metadata": {},
      "outputs": [
        {
          "name": "stdout",
          "output_type": "stream",
          "text": [
            "AND: 1\n"
          ]
        }
      ],
      "source": [
        "x1 = 1\n",
        "x2 = 1\n",
        "\n",
        "w1 = 0.4\n",
        "w2 = 0.4\n",
        "\n",
        "f = lambda x: 1 if x > 0 else 0\n",
        "\n",
        "y_AND = f(x1*w1 + x2*w2)\n",
        "\n",
        "print('AND:', y_AND)"
      ]
    },
    {
      "cell_type": "markdown",
      "metadata": {},
      "source": [
        "Writing it like this is time consuming and inefficient, so we turn back to linear algebra and use pytorch"
      ]
    },
    {
      "cell_type": "code",
      "execution_count": 20,
      "metadata": {},
      "outputs": [
        {
          "name": "stdout",
          "output_type": "stream",
          "text": [
            "AND: tensor([0.])\n"
          ]
        }
      ],
      "source": [
        "import torch\n",
        "from torch import nn\n",
        "import torch.nn.functional as F\n",
        "\n",
        "x = torch.Tensor([0,1])\n",
        "w = torch.Tensor([0.99, 0.99])\n",
        "bias = torch.Tensor([-1])\n",
        "y_AND = F.relu((x*w).sum()+bias) # this is the non-linear function \"f\" - why is this needed?\n",
        "print('AND:', y_AND)"
      ]
    },
    {
      "cell_type": "markdown",
      "metadata": {},
      "source": [
        "$x*w$ is now a vector-vector multiplication\n",
        "\n",
        "'.sum()' --> operator sums up all the value in the vector"
      ]
    },
    {
      "cell_type": "code",
      "execution_count": 21,
      "metadata": {},
      "outputs": [
        {
          "name": "stdout",
          "output_type": "stream",
          "text": [
            "AND: tensor([0.])\n",
            "AND: tensor([0.])\n",
            "AND: tensor([0.])\n",
            "AND: tensor([0.9800])\n"
          ]
        }
      ],
      "source": [
        "x = torch.Tensor([0,0])\n",
        "y_AND = F.relu((x*w).sum()+bias)\n",
        "print('AND:', y_AND)\n",
        "\n",
        "x = torch.Tensor([0,1])\n",
        "y_AND = F.relu((x*w).sum()+bias)\n",
        "print('AND:', y_AND)\n",
        "\n",
        "x = torch.Tensor([1,0])\n",
        "y_AND = F.relu((x*w).sum()+bias)\n",
        "print('AND:', y_AND)\n",
        "\n",
        "x = torch.Tensor([1,1])\n",
        "y_AND = F.relu((x*w).sum()+bias)\n",
        "print('AND:', y_AND)"
      ]
    },
    {
      "cell_type": "markdown",
      "metadata": {},
      "source": [
        "now we were able to run all the inputs in just a few lines\n",
        "\n",
        "noticed that we did not change the wights $w$ because we assume they are fixed for a specific function\n",
        "\n"
      ]
    },
    {
      "cell_type": "markdown",
      "metadata": {},
      "source": [
        "HOMEWORK:\n",
        "\n",
        "Try the OR function on your own."
      ]
    }
  ],
  "metadata": {
    "colab": {
      "provenance": []
    },
    "kernelspec": {
      "display_name": "Python 3",
      "name": "python3"
    },
    "language_info": {
      "codemirror_mode": {
        "name": "ipython",
        "version": 3
      },
      "file_extension": ".py",
      "mimetype": "text/x-python",
      "name": "python",
      "nbconvert_exporter": "python",
      "pygments_lexer": "ipython3",
      "version": "3.11.6"
    }
  },
  "nbformat": 4,
  "nbformat_minor": 0
}
