{
 "cells": [
  {
   "cell_type": "markdown",
   "metadata": {},
   "source": [
    "# Deep Learning Course\n",
    "\n",
    "## Eugenio Culurciello\n",
    "\n",
    "\n",
    "Deep learning course material from Eugenio Culurciello\n",
    "\n",
    "This course is designed for begineers in machine-learning and programming. The caveat of the latter clause is that you will need to learn programming and learn it fast!\n",
    "\n",
    "What math level is required?\n",
    "\n",
    "- linear algebra, vectors matrices\n",
    "- some statistics\n",
    "\n",
    "\n",
    "What programming level is required?\n",
    "\n",
    "- basic python or any scripting language\n",
    "- knowledge of linux, installing python packages\n",
    "- debugging, reading errors\n",
    "- software documentation and how to run examples"
   ]
  }
 ],
 "metadata": {
  "language_info": {
   "name": "python"
  }
 },
 "nbformat": 4,
 "nbformat_minor": 2
}
