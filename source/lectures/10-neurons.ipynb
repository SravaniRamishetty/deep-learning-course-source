{
  "cells": [
    {
      "cell_type": "markdown",
      "metadata": {},
      "source": [
        "# unit 1.0 - Neurons"
      ]
    },
    {
      "cell_type": "markdown",
      "metadata": {},
      "source": [
        "WHAT IS MACHINE LEARNING?\n",
        "\n",
        "Ok, so now we know tensors and found out about pytorch - but what is machine learning?\n",
        "\n",
        "Suppose I do not have a formula for what a cat is, but I have many pictures of a cat.\n",
        "\n",
        "![](images/cat.jpg)\n",
        "\n",
        "What can I do?\n",
        "\n",
        "I can create a pseudo-equation with neural networks. This is similar to the neural network in our brain that can tell if we are seeing a cat..."
      ]
    },
    {
      "cell_type": "markdown",
      "metadata": {},
      "source": [
        "REAL NEURONS\n",
        "\n",
        "This on the left is a real neuron in our brain.\n",
        "\n",
        "it has some input (from dendrites), some output (from axon) and an area that does some computation - or thinking (soma / nucleus)!"
      ]
    },
    {
      "cell_type": "markdown",
      "metadata": {},
      "source": [
        "Computer scientists many years ago wanted to know how we can tell apart a picture of a cat, and did not know how to do this with computers. \n",
        "\n",
        "So they thought of making artificial neurons. After all our brain can solve this problem = can tell if a picture is of a cat, and our brain uses neurons to do this.\n",
        "\n",
        "![](images/real-ann.png)\n",
        "\n",
        "To date we still do not know how our real brain works and how it can tell a cat apart, but we have made neural networks that can do that and we have found out how. \n",
        "\n",
        "This still does not tell us how our brain performs this task... but at least we have somethign computers can use"
      ]
    },
    {
      "cell_type": "markdown",
      "metadata": {},
      "source": [
        "ARTIFICIAL NEURON\n",
        "\n",
        "Even in an artificial neuron there are inputs ($x_1$, $x_2$,...) and outputs ($y_k$), and there is a region that \"thinks\" or computes.\n",
        "\n",
        "$$ y_k = {\\sigma( \\sum{W_kj * x_j}  ) } $$"
      ]
    },
    {
      "cell_type": "markdown",
      "metadata": {},
      "source": [
        "MAGIC\n",
        "\n",
        "Yes magic, because many of these neurons can do amazing things if trained appropriately. They can approximate any functions. \n",
        "\n",
        "Many functions like XOR, AND etc are boring... but they can also approximate the function \"picture of a cat?\""
      ]
    },
    {
      "cell_type": "markdown",
      "metadata": {},
      "source": [
        "artificial neurons make all the new and successful AI algorithms such as:\n",
        "\n",
        "ChatGPT\n",
        "\n",
        "LLM\n",
        "\n",
        "DALL-E\n",
        "\n",
        "..."
      ]
    }
  ],
  "metadata": {
    "colab": {
      "provenance": []
    },
    "kernelspec": {
      "display_name": "Python 3",
      "name": "python3"
    },
    "language_info": {
      "codemirror_mode": {
        "name": "ipython",
        "version": 3
      },
      "file_extension": ".py",
      "mimetype": "text/x-python",
      "name": "python",
      "nbconvert_exporter": "python",
      "pygments_lexer": "ipython3",
      "version": "3.10.9"
    }
  },
  "nbformat": 4,
  "nbformat_minor": 0
}
