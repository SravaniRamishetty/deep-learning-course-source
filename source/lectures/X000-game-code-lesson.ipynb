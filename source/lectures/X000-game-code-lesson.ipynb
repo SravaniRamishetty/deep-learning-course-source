{
 "cells": [
  {
   "cell_type": "markdown",
   "metadata": {},
   "source": [
    "# Intro to programming \n",
    "\n",
    "## Lecture 1\n",
    "\n",
    "learn to code by coding a game. We can use this gaming library to get started: [PyGame](https://www.pygame.org)\n",
    "\n",
    "let us make a small game of soccer: a python 2d game with pygame for soccer with 2 players, one computer controlled. The field is green and 800x600 pixels, the goals are yellow on both right and left sides. The players are red and blue. There is a black and white ball and the goal of the game is for a player to send the ball into the yellow goals.\n"
   ]
  },
  {
   "cell_type": "code",
   "execution_count": 1,
   "metadata": {},
   "outputs": [
    {
     "name": "stdout",
     "output_type": "stream",
     "text": [
      "pygame 2.5.2 (SDL 2.28.3, Python 3.11.6)\n",
      "Hello from the pygame community. https://www.pygame.org/contribute.html\n"
     ]
    },
    {
     "ename": "",
     "evalue": "",
     "output_type": "error",
     "traceback": [
      "\u001b[1;31mThe Kernel crashed while executing code in the the current cell or a previous cell. Please review the code in the cell(s) to identify a possible cause of the failure. Click <a href='https://aka.ms/vscodeJupyterKernelCrash'>here</a> for more info. View Jupyter <a href='command:jupyter.viewOutput'>log</a> for further details."
     ]
    }
   ],
   "source": [
    "import sys, pygame\n",
    "\n",
    "# some colors:\n",
    "BLACK = (0, 0, 0)\n",
    "RED = (255, 0, 0)\n",
    "BLUE = (0, 0, 255)\n",
    "\n",
    "pygame.init()\n",
    "size = width, height = 320, 240\n",
    "screen = pygame.display.set_mode(size)\n",
    "\n",
    "# ball data:\n",
    "radius = 15  # Adjust the radius of the circle as needed\n",
    "ballrect = pygame.Rect(width // 2 - radius, height // 2 - radius, radius * 2, radius * 2)\n",
    "speed = [2, 2] # speed of the moving ball\n",
    "\n",
    "run = True\n",
    "while run:\n",
    "    for event in pygame.event.get():\n",
    "        if event.type == pygame.QUIT:\n",
    "            run = False\n",
    "            pygame.quit()\n",
    "            sys.exit()\n",
    "\n",
    "    ballrect = ballrect.move(speed) # move the ball by one bit\n",
    "\n",
    "    if ballrect.left < 0 or ballrect.right > width:\n",
    "        speed[0] = -speed[0]\n",
    "    if ballrect.top < 0 or ballrect.bottom > height:\n",
    "        speed[1] = -speed[1]\n",
    "\n",
    "    # draw:\n",
    "    screen.fill(BLACK)\n",
    "    pygame.draw.circle(screen, RED, ballrect.center, radius)  # Draw the circle\n",
    "    pygame.display.flip()\n"
   ]
  },
  {
   "cell_type": "markdown",
   "metadata": {},
   "source": [
    "## What do we have here:\n",
    "\n"
   ]
  },
  {
   "cell_type": "code",
   "execution_count": null,
   "metadata": {},
   "outputs": [],
   "source": [
    "import pygame\n",
    "\n",
    "# Initialize pygame\n",
    "pygame.init()\n",
    "\n",
    "# Set the screen size\n",
    "SCREEN_WIDTH = 800\n",
    "SCREEN_HEIGHT = 600\n",
    "\n",
    "# Create the screen\n",
    "screen = pygame.display.set_mode((SCREEN_WIDTH, SCREEN_HEIGHT)) \n",
    "# https://www.pygame.org/docs/ref/display.html#pygame.display.set_mode\n",
    "\n",
    "# Set the window title\n",
    "pygame.display.set_caption(\"Soccer\")\n",
    "\n",
    "# Set the background color\n",
    "screen.fill((0, 128, 0))\n",
    "\n",
    "# Define the players' colors\n",
    "RED = (255, 0, 0)\n",
    "BLUE = (0, 0, 255)"
   ]
  },
  {
   "cell_type": "markdown",
   "metadata": {},
   "source": [
    "### Advanced:\n",
    "\n",
    "https://www.pygame.org/docs/tut/ChimpLineByLine.html"
   ]
  }
 ],
 "metadata": {
  "kernelspec": {
   "display_name": "Python 3",
   "language": "python",
   "name": "python3"
  },
  "language_info": {
   "codemirror_mode": {
    "name": "ipython",
    "version": 3
   },
   "file_extension": ".py",
   "mimetype": "text/x-python",
   "name": "python",
   "nbconvert_exporter": "python",
   "pygments_lexer": "ipython3",
   "version": "3.11.6"
  }
 },
 "nbformat": 4,
 "nbformat_minor": 2
}
