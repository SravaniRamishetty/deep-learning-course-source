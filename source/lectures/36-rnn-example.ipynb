{
 "cells": [
  {
   "cell_type": "markdown",
   "metadata": {},
   "source": [
    "\n",
    "# unit 3.6 - RNN example\n",
    "\n",
    "\n",
    "For a well developed and commented RNN example implementation, see [this repo](https://github.com/karpathy/char-rnn).\n",
    "\n"
   ]
  }
 ],
 "metadata": {
  "language_info": {
   "name": "python"
  }
 },
 "nbformat": 4,
 "nbformat_minor": 2
}
