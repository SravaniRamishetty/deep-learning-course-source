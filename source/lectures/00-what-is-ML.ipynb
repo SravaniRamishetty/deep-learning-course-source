{
  "cells": [
    {
      "cell_type": "markdown",
      "metadata": {},
      "source": [
        "# unit 0.0 - What is machine learning?"
      ]
    },
    {
      "cell_type": "markdown",
      "metadata": {},
      "source": [
        "Suppose you want to find an equation for a problem\n",
        "\n",
        "PROBLEM 1 - time for an object to fall from a table 1m tall\n",
        "\n",
        "\n",
        "![](images/mofall.jpg)\n",
        "\n",
        "\n",
        "Here there is an equation and we can use it!\n",
        "\n",
        "The interesting thing is - how was this equation discovered?"
      ]
    },
    {
      "cell_type": "markdown",
      "metadata": {},
      "source": [
        "PROBLEM 2 - is this a picture of a cat?\n",
        "\n",
        "![](images/cat.jpg)\n",
        "\n",
        "In this case, there is no equation...\n",
        "\n",
        "But why?"
      ]
    },
    {
      "cell_type": "markdown",
      "metadata": {},
      "source": [
        "CIFAR 10 dataset\n",
        "\n",
        "![](images/cifar10.png)\n",
        "\n",
        "This is another example of small images and the variety that they can have in the data / pixels"
      ]
    },
    {
      "cell_type": "markdown",
      "metadata": {},
      "source": [
        "TRY TO USE [BARD](https://bard.google.com/chat):\n",
        "\n",
        "\"can you write code to train a lenet5 in PyTorch on the cifar10 dataset?\"\n",
        "\n",
        "(WAIT - what? why are we using this tool? Aren't we supposed to learn to program in this course?)"
      ]
    },
    {
      "cell_type": "code",
      "execution_count": null,
      "metadata": {},
      "outputs": [],
      "source": [
        "import torch\n",
        "import torch.nn as nn\n",
        "import torchvision.transforms as transforms\n",
        "import torchvision.datasets as datasets\n",
        "import torch.nn.functional as F\n",
        "\n",
        "class LeNet5(nn.Module):\n",
        "    def __init__(self):\n",
        "        super(LeNet5, self).__init__()\n",
        "\n",
        "        # Convolutional layers\n",
        "        self.conv1 = nn.Conv2d(3, 6, 5)\n",
        "        self.conv2 = nn.Conv2d(6, 16, 5)\n",
        "\n",
        "        # Pooling layers\n",
        "        self.pool1 = nn.AvgPool2d(2)\n",
        "        self.pool2 = nn.AvgPool2d(2)\n",
        "\n",
        "        # Fully connected layers\n",
        "        self.fc1 = nn.Linear(16 * 5 * 5, 120)\n",
        "        self.fc2 = nn.Linear(120, 84)\n",
        "        self.fc3 = nn.Linear(84, 10)\n",
        "\n",
        "    def forward(self, x):\n",
        "        # Convolutional layers\n",
        "        x = F.relu(self.conv1(x))\n",
        "        x = self.pool1(x)\n",
        "        x = F.relu(self.conv2(x))\n",
        "        x = self.pool2(x)\n",
        "\n",
        "        # Fully connected layers\n",
        "        x = x.view(-1, 16 * 5 * 5)\n",
        "        x = F.relu(self.fc1(x))\n",
        "        x = F.relu(self.fc2(x))\n",
        "        x = self.fc3(x)\n",
        "\n",
        "        return x\n",
        "\n",
        "# Load the CIFAR-10 dataset\n",
        "train_dataset = datasets.CIFAR10(root='./data', train=True, download=True, transform=transforms.ToTensor())\n",
        "test_dataset = datasets.CIFAR10(root='./data', train=False, download=True, transform=transforms.ToTensor())\n",
        "\n",
        "# Create the LeNet-5 model\n",
        "model = LeNet5()\n",
        "\n",
        "# Define the loss function and optimizer\n",
        "criterion = nn.CrossEntropyLoss()\n",
        "optimizer = torch.optim.Adam(model.parameters(), lr=0.001)\n",
        "\n",
        "# Train the model\n",
        "for epoch in range(10):\n",
        "    # Train the model on the training dataset\n",
        "    for i, (data, labels) in enumerate(train_dataset):\n",
        "        # Forward pass\n",
        "        outputs = model(data)\n",
        "\n",
        "        # Compute the loss\n",
        "        loss = criterion(outputs, labels)\n",
        "\n",
        "        # Backward pass\n",
        "        optimizer.zero_grad()\n",
        "        loss.backward()\n",
        "        optimizer.step()\n",
        "\n",
        "        # Print the progress\n",
        "        if (i + 1) % 100 == 0:\n",
        "            print('Epoch [{}/{}], Batch [{}/{}], Loss: {:.6f}'.format(epoch + 1, 10, i + 1, len(train_dataset), loss.item()))\n",
        "\n",
        "# Evaluate the model on the test dataset\n",
        "correct = 0\n",
        "total = 0\n",
        "with torch.no_grad():\n",
        "    for data, labels in test_dataset:\n",
        "        outputs = model(data)\n",
        "        _, predicted = torch.max(outputs.data, 1)\n",
        "        total += labels.size(0)\n",
        "        correct += (predicted == labels).sum().item()\n",
        "\n",
        "print('Accuracy of the network on the test images: {} %'.format(100 * correct / total))\n"
      ]
    },
    {
      "cell_type": "markdown",
      "metadata": {},
      "source": [
        "If you run the code above you will see:\n",
        "\n",
        "It does not work and we do not know why, but it is quite close to being correct!\n",
        "\n",
        "In this course we will learn how to code this properly, or fix this properly!"
      ]
    },
    {
      "cell_type": "markdown",
      "metadata": {},
      "source": [
        "## Note on Python programming\n",
        "\n",
        "In this course we use the Python programming language heavily. We ask that you are proficient in Python to the best of your abilities before embarking in this course.\n",
        "\n",
        "A great resource for beginner is [here](https://www.w3schools.com/python/python_intro.asp).\n",
        "\n",
        "There are many, if not infinite more resources, tutorials, courses, all a Google search away!"
      ]
    }
  ],
  "metadata": {
    "colab": {
      "provenance": []
    },
    "kernelspec": {
      "display_name": "Python 3",
      "name": "python3"
    },
    "language_info": {
      "codemirror_mode": {
        "name": "ipython",
        "version": 3
      },
      "file_extension": ".py",
      "mimetype": "text/x-python",
      "name": "python",
      "nbconvert_exporter": "python",
      "pygments_lexer": "ipython3",
      "version": "3.10.9"
    }
  },
  "nbformat": 4,
  "nbformat_minor": 0
}
