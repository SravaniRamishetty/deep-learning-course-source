{
 "cells": [
  {
   "cell_type": "markdown",
   "metadata": {},
   "source": [
    "# unit 1.9 - Neural Networks: what is next in this course?\n",
    "\n",
    "So far in this course we have covered the material:\n",
    "\n",
    "- introduction to machine learning\n",
    "- artificial neural networks, neurons\n",
    "- multi-layer perceptrons, stacks of linear layers and non-linearities\n",
    "- back-propagation and gradient descent\n",
    "- professional training scripts\n",
    "\n",
    "What is next in this course?\n",
    "\n",
    "## Units 2, 3, 4\n",
    "\n",
    "We will study neural networks for sequences of data, such as word in a sentence. We will quickly learn how to build our own state-of-the-art word and language models and try to replicate ChatGPT and similar. We will learn more complex neural network architectures such as convolutions and Transformers.\n",
    "\n",
    "## Unit 5\n",
    "\n",
    "We will take an overview on neural networks building blocks and popular and historic neural architectures.\n",
    "\n",
    "## Units 6, 7, 8\n",
    "\n",
    "We will look into more advanced deep learning and neural networks topics, such as non-supervised learning, advanced models of the brain and general artificial intelligence (AGI), reinforcement learning.\n"
   ]
  }
 ],
 "metadata": {
  "kernelspec": {
   "display_name": "Python 3 (ipykernel)",
   "language": "python",
   "name": "python3"
  },
  "language_info": {
   "codemirror_mode": {
    "name": "ipython",
    "version": 3
   },
   "file_extension": ".py",
   "mimetype": "text/x-python",
   "name": "python",
   "nbconvert_exporter": "python",
   "pygments_lexer": "ipython3",
   "version": "3.11.6"
  }
 },
 "nbformat": 4,
 "nbformat_minor": 5
}
