{
 "cells": [
  {
   "cell_type": "markdown",
   "metadata": {},
   "source": [
    "## Eugenio Culurciello\n",
    "\n",
    "[Eugenio Culurciello's webpage](https://culurciello.github.io)\n",
    "\n",
    "[Eugenio Culurciello's blog](https://euge-blog.github.io)\n",
    "\n",
    "[Eugenio Culurciello @LinkedIn](https://www.linkedin.com/in/eugenioculurciello/)\n",
    "\n",
    "[Eugenio Culurciello @X](https://twitter.com/culurciello)\n",
    "\n",
    "[Eugenio Culurciello @YouTube](https://www.youtube.com/c/eugenioculurciello)\n",
    "\n",
    "[Eugenio Culurciello @Scholar](https://scholar.google.com/citations?user=SeGmqkIAAAAJ&hl=en)\n",
    "\n",
    "[Eugenio Culurciello @Purdue](https://engineering.purdue.edu/BME/People/ptProfile?resource_id=71333)"
   ]
  }
 ],
 "metadata": {
  "language_info": {
   "name": "python"
  }
 },
 "nbformat": 4,
 "nbformat_minor": 2
}
