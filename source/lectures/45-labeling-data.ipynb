{
  "cells": [
    {
      "cell_type": "markdown",
      "metadata": {},
      "source": []
    },
    {
      "cell_type": "markdown",
      "metadata": {},
      "source": [
        "# unit 4.5 - Labeling data\n",
        "\n",
        "\n",
        "## Labeling automatically\n",
        "\n",
        "If you want to create your own dataset for localization and categorization, you can use some open-source trained neural network models to do so. Here below we show an example of what you can do.\n",
        "\n",
        "![](images/autolabel-example1.png)\n",
        "\n",
        "What is the magic? \n",
        "\n",
        "Here are some great tools (year 2024):\n",
        "\n",
        "### Text -> bounding boxes: \n",
        "\n",
        "[GroundingDINO](https://github.com/IDEA-Research/GroundingDINO) uses BERT and SWIN to extract test and image features and has powerful zero-short accuracy, but it may be slow.\n",
        "\n",
        "![](images/autolabel-boxes1.png)\n",
        "\n",
        "Because it was trained with a language model, it has complex capabilities for a large variety of objects, for example it can detect a \"dog tail\":\n",
        "\n",
        "![](images/autolabel-boxes2.png)\n",
        "\n",
        "It even has the capability to filter based on the relationship between objects, for example it can tell \"chair\" versus \"men sitting on chair\":\n",
        "\n",
        "![](images/autolabel-boxes3.png)\n",
        "\n",
        "\n",
        "###  Bounding boxes -> segmentation masks: \n",
        "\n",
        "[Segment-Anything](https://segment-anything.com) can generate segmentation masks for all objects in the image.\n",
        "\n",
        "![](images/autolabel-segment1.png)\n",
        "\n",
        "It can even be used on medical images:\n",
        "\n",
        "![](images/autolabel-segment2.png)\n",
        "\n",
        "\n",
        "\n",
        "## References\n",
        "\n",
        "[POST](https://x.com/skalskip92/status/1770081903879541104?s=20)\n",
        "\n",
        "[GroundingDINO](https://github.com/IDEA-Research/GroundingDINO)\n",
        "\n",
        "[segment-anything](https://segment-anything.com)"
      ]
    }
  ],
  "metadata": {
    "colab": {
      "provenance": []
    },
    "kernelspec": {
      "display_name": "Python 3",
      "name": "python3"
    },
    "language_info": {
      "codemirror_mode": {
        "name": "ipython",
        "version": 3
      },
      "file_extension": ".py",
      "mimetype": "text/x-python",
      "name": "python",
      "nbconvert_exporter": "python",
      "pygments_lexer": "ipython3",
      "version": "3.10.9"
    }
  },
  "nbformat": 4,
  "nbformat_minor": 0
}
