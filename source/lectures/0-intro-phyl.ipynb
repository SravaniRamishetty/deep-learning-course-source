{
 "cells": [
  {
   "cell_type": "markdown",
   "metadata": {},
   "source": [
    "## Info and course phylosophy\n",
    "\n",
    "### Deep learning course material from Eugenio Culurciello\n",
    "\n",
    "This course is designed for begineers in machine-learning and programming. The caveat of the latter clause is that you will need to learn programming and learn it fast!\n",
    "\n",
    "What math level is required?\n",
    "\n",
    "- linear algebra, vectors matrices\n",
    "- some statistics\n",
    "\n",
    "\n",
    "What programming level is required?\n",
    "\n",
    "- basic python or any scripting language\n",
    "- knowledge of linux, installing python packages\n",
    "- debugging, reading errors\n",
    "- software documentation and how to run examples\n",
    "\n",
    "\n",
    "### Note on Python programming\n",
    "\n",
    "In this course we use the Python programming language heavily. We ask that you are proficient in Python to the best of your abilities before embarking in this course.\n",
    "\n",
    "A great resource for beginner is [here](https://www.w3schools.com/python/python_intro.asp).\n",
    "\n",
    "There are many, if not infinite more resources, tutorials, courses, all a Google search away! ([example 1](https://cs50.harvard.edu/python/2022/), [example 2](https://ocw.mit.edu/courses/6-0001-introduction-to-computer-science-and-programming-in-python-fall-2016/))"
   ]
  }
 ],
 "metadata": {
  "language_info": {
   "name": "python"
  }
 },
 "nbformat": 4,
 "nbformat_minor": 2
}
