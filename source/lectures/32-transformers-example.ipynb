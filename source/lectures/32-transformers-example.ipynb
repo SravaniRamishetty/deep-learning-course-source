{
 "cells": [
  {
   "cell_type": "markdown",
   "metadata": {},
   "source": [
    "\n",
    "# unit 3.1 - Transformer example\n",
    "\n",
    "\n",
    "For a well developed and commented Transformer implementation, see [this repo](https://github.com/karpathy/nanoGPT).\n",
    "\n"
   ]
  }
 ],
 "metadata": {
  "language_info": {
   "name": "python"
  }
 },
 "nbformat": 4,
 "nbformat_minor": 2
}
